{
  "nbformat": 4,
  "nbformat_minor": 0,
  "metadata": {
    "colab": {
      "name": "Lab1Practice.ipynb",
      "provenance": [],
      "collapsed_sections": [],
      "authorship_tag": "ABX9TyPhy7n/YM1knTkwnuBcYo+i",
      "include_colab_link": true
    },
    "kernelspec": {
      "name": "python3",
      "display_name": "Python 3"
    }
  },
  "cells": [
    {
      "cell_type": "markdown",
      "metadata": {
        "id": "view-in-github",
        "colab_type": "text"
      },
      "source": [
        "<a href=\"https://colab.research.google.com/github/njh5341/PracticeWithWebDesign/blob/master/Lab1Practice.ipynb\" target=\"_parent\"><img src=\"https://colab.research.google.com/assets/colab-badge.svg\" alt=\"Open In Colab\"/></a>"
      ]
    },
    {
      "cell_type": "markdown",
      "metadata": {
        "id": "SGxUoQJIu7C7",
        "colab_type": "text"
      },
      "source": [
        "## Do you like using Jupyter Notebooks?"
      ]
    },
    {
      "cell_type": "markdown",
      "metadata": {
        "id": "QLr5gBxjvHf-",
        "colab_type": "text"
      },
      "source": [
        "So far, I think they're kinda neat. Time will tell, I guess."
      ]
    },
    {
      "cell_type": "markdown",
      "metadata": {
        "id": "8FWzRnH6vNHe",
        "colab_type": "text"
      },
      "source": [
        "## What do you want to learn more about in Jupyter Notebooks?"
      ]
    },
    {
      "cell_type": "markdown",
      "metadata": {
        "id": "yPUqDrYKvQ6z",
        "colab_type": "text"
      },
      "source": [
        "One thing I look forward to learning is seeing the full extent of how it handles HTML, CSS, and JS. I've never heard of anything like this before for displaying web content, so this should be pretty interesting."
      ]
    },
    {
      "cell_type": "markdown",
      "metadata": {
        "id": "Z3_Je2i1vqlS",
        "colab_type": "text"
      },
      "source": [
        "![The result of a video card with bad RAM](https://raw.githubusercontent.com/njh5341/PracticeWithWebDesign/master/Images/IMG-7712.jpg)"
      ]
    }
  ]
}